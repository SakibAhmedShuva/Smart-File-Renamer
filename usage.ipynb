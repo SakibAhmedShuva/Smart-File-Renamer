{
 "cells": [
  {
   "cell_type": "code",
   "execution_count": 2,
   "id": "e7c5e2f6",
   "metadata": {},
   "outputs": [],
   "source": [
    "from smart_filing_system import SmartFilingSystem"
   ]
  },
  {
   "cell_type": "code",
   "execution_count": 3,
   "id": "e48f606f",
   "metadata": {},
   "outputs": [
    {
     "name": "stdout",
     "output_type": "stream",
     "text": [
      "Copied F:\\OneDrive - Green Energy\\Desktop\\GE\\images\\clients\\client_ (1).jpg to renamed_files\\image_01.jpg\n",
      "Copied F:\\OneDrive - Green Energy\\Desktop\\GE\\images\\clients\\client_ (10).jpg to renamed_files\\image_02.jpg\n",
      "Copied F:\\OneDrive - Green Energy\\Desktop\\GE\\images\\clients\\client_ (11).jpg to renamed_files\\image_03.jpg\n",
      "Copied F:\\OneDrive - Green Energy\\Desktop\\GE\\images\\clients\\client_ (12).jpg to renamed_files\\image_04.jpg\n",
      "Copied F:\\OneDrive - Green Energy\\Desktop\\GE\\images\\clients\\client_ (13).jpg to renamed_files\\image_05.jpg\n",
      "Copied F:\\OneDrive - Green Energy\\Desktop\\GE\\images\\clients\\client_ (14).jpg to renamed_files\\image_06.jpg\n",
      "Copied F:\\OneDrive - Green Energy\\Desktop\\GE\\images\\clients\\client_ (15).jpg to renamed_files\\image_07.jpg\n",
      "Copied F:\\OneDrive - Green Energy\\Desktop\\GE\\images\\clients\\client_ (16).jpg to renamed_files\\image_08.jpg\n",
      "Copied F:\\OneDrive - Green Energy\\Desktop\\GE\\images\\clients\\client_ (17).jpg to renamed_files\\image_09.jpg\n",
      "Copied F:\\OneDrive - Green Energy\\Desktop\\GE\\images\\clients\\client_ (18).jpg to renamed_files\\image_10.jpg\n",
      "Copied F:\\OneDrive - Green Energy\\Desktop\\GE\\images\\clients\\client_ (19).jpg to renamed_files\\image_11.jpg\n",
      "Copied F:\\OneDrive - Green Energy\\Desktop\\GE\\images\\clients\\client_ (2).jpg to renamed_files\\image_12.jpg\n",
      "Copied F:\\OneDrive - Green Energy\\Desktop\\GE\\images\\clients\\client_ (20).jpg to renamed_files\\image_13.jpg\n",
      "Copied F:\\OneDrive - Green Energy\\Desktop\\GE\\images\\clients\\client_ (21).jpg to renamed_files\\image_14.jpg\n",
      "Copied F:\\OneDrive - Green Energy\\Desktop\\GE\\images\\clients\\client_ (22).jpg to renamed_files\\image_15.jpg\n",
      "Copied F:\\OneDrive - Green Energy\\Desktop\\GE\\images\\clients\\client_ (23).jpg to renamed_files\\image_16.jpg\n",
      "Copied F:\\OneDrive - Green Energy\\Desktop\\GE\\images\\clients\\client_ (24).jpg to renamed_files\\image_17.jpg\n",
      "Copied F:\\OneDrive - Green Energy\\Desktop\\GE\\images\\clients\\client_ (25).jpg to renamed_files\\image_18.jpg\n",
      "Copied F:\\OneDrive - Green Energy\\Desktop\\GE\\images\\clients\\client_ (26).jpg to renamed_files\\image_19.jpg\n",
      "Copied F:\\OneDrive - Green Energy\\Desktop\\GE\\images\\clients\\client_ (27).jpg to renamed_files\\image_20.jpg\n",
      "Copied F:\\OneDrive - Green Energy\\Desktop\\GE\\images\\clients\\client_ (28).jpg to renamed_files\\image_21.jpg\n",
      "Copied F:\\OneDrive - Green Energy\\Desktop\\GE\\images\\clients\\client_ (29).jpg to renamed_files\\image_22.jpg\n",
      "Copied F:\\OneDrive - Green Energy\\Desktop\\GE\\images\\clients\\client_ (3).jpg to renamed_files\\image_23.jpg\n",
      "Copied F:\\OneDrive - Green Energy\\Desktop\\GE\\images\\clients\\client_ (30).jpg to renamed_files\\image_24.jpg\n",
      "Copied F:\\OneDrive - Green Energy\\Desktop\\GE\\images\\clients\\client_ (31).jpg to renamed_files\\image_25.jpg\n",
      "Copied F:\\OneDrive - Green Energy\\Desktop\\GE\\images\\clients\\client_ (32).jpg to renamed_files\\image_26.jpg\n",
      "Copied F:\\OneDrive - Green Energy\\Desktop\\GE\\images\\clients\\client_ (33).jpg to renamed_files\\image_27.jpg\n",
      "Copied F:\\OneDrive - Green Energy\\Desktop\\GE\\images\\clients\\client_ (34).jpg to renamed_files\\image_28.jpg\n",
      "Copied F:\\OneDrive - Green Energy\\Desktop\\GE\\images\\clients\\client_ (35).jpg to renamed_files\\image_29.jpg\n",
      "Copied F:\\OneDrive - Green Energy\\Desktop\\GE\\images\\clients\\client_ (36).jpg to renamed_files\\image_30.jpg\n",
      "Copied F:\\OneDrive - Green Energy\\Desktop\\GE\\images\\clients\\client_ (37).jpg to renamed_files\\image_31.jpg\n",
      "Copied F:\\OneDrive - Green Energy\\Desktop\\GE\\images\\clients\\client_ (38).jpg to renamed_files\\image_32.jpg\n",
      "Copied F:\\OneDrive - Green Energy\\Desktop\\GE\\images\\clients\\client_ (39).jpg to renamed_files\\image_33.jpg\n",
      "Copied F:\\OneDrive - Green Energy\\Desktop\\GE\\images\\clients\\client_ (4).jpg to renamed_files\\image_34.jpg\n",
      "Copied F:\\OneDrive - Green Energy\\Desktop\\GE\\images\\clients\\client_ (40).jpg to renamed_files\\image_35.jpg\n",
      "Copied F:\\OneDrive - Green Energy\\Desktop\\GE\\images\\clients\\client_ (41).jpg to renamed_files\\image_36.jpg\n",
      "Copied F:\\OneDrive - Green Energy\\Desktop\\GE\\images\\clients\\client_ (42).jpg to renamed_files\\image_37.jpg\n",
      "Copied F:\\OneDrive - Green Energy\\Desktop\\GE\\images\\clients\\client_ (43).jpg to renamed_files\\image_38.jpg\n",
      "Copied F:\\OneDrive - Green Energy\\Desktop\\GE\\images\\clients\\client_ (5).jpg to renamed_files\\image_39.jpg\n",
      "Copied F:\\OneDrive - Green Energy\\Desktop\\GE\\images\\clients\\client_ (6).jpg to renamed_files\\image_40.jpg\n",
      "Copied F:\\OneDrive - Green Energy\\Desktop\\GE\\images\\clients\\client_ (7).jpg to renamed_files\\image_41.jpg\n",
      "Copied F:\\OneDrive - Green Energy\\Desktop\\GE\\images\\clients\\client_ (8).jpg to renamed_files\\image_42.jpg\n",
      "Copied F:\\OneDrive - Green Energy\\Desktop\\GE\\images\\clients\\client_ (9).jpg to renamed_files\\image_43.jpg\n"
     ]
    },
    {
     "data": {
      "text/plain": [
       "{'jpg': 43}"
      ]
     },
     "execution_count": 3,
     "metadata": {},
     "output_type": "execute_result"
    }
   ],
   "source": [
    "\n",
    "# Create filing system with target folder\n",
    "filing = SmartFilingSystem(\"renamed_files\")\n",
    "\n",
    "# Set custom naming patterns by extension\n",
    "filing.set_naming_pattern(\"jpg\", \"image_{:02d}\")\n",
    "filing.set_naming_pattern(\"png\", \"image_{:02d}\")  # Uses same pattern for PNG\n",
    "filing.set_naming_pattern(\"txt\", \"ann_{:02d}\")    # Different pattern for TXT\n",
    "\n",
    "# Set default pattern for other file types\n",
    "filing.set_default_pattern(\"file_{:02d}\")\n",
    "\n",
    "# Process all files in source folder\n",
    "filing.organize_files(r\"F:\\OneDrive - Green Energy\\Desktop\\GE\\images\\clients\")"
   ]
  },
  {
   "cell_type": "code",
   "execution_count": null,
   "id": "8b53f1c6",
   "metadata": {},
   "outputs": [],
   "source": []
  }
 ],
 "metadata": {
  "kernelspec": {
   "display_name": "Python 3",
   "language": "python",
   "name": "python3"
  },
  "language_info": {
   "codemirror_mode": {
    "name": "ipython",
    "version": 3
   },
   "file_extension": ".py",
   "mimetype": "text/x-python",
   "name": "python",
   "nbconvert_exporter": "python",
   "pygments_lexer": "ipython3",
   "version": "3.10.11"
  }
 },
 "nbformat": 4,
 "nbformat_minor": 5
}
